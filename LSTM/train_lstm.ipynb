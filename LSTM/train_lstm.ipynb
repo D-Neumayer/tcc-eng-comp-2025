{
  "cells": [
    {
      "cell_type": "code",
      "execution_count": null,
      "metadata": {
        "id": "RXbATOSCva2_"
      },
      "outputs": [],
      "source": [
        "import pandas as pd\n",
        "import numpy as np\n",
        "import matplotlib.pyplot as plt\n",
        "from sklearn.preprocessing import MinMaxScaler\n",
        "import tensorflow as tf\n",
        "from tensorflow.keras.models import Sequential\n",
        "from tensorflow.keras.layers import LSTM, Dense, Dropout\n",
        "from tensorflow.keras.callbacks import ModelCheckpoint\n",
        "from tensorflow.keras.models import load_model\n",
        "from tensorflow.keras.callbacks import EarlyStopping\n"
      ]
    },
    {
      "cell_type": "code",
      "execution_count": 2,
      "metadata": {
        "id": "20wNd6jSvcG5"
      },
      "outputs": [],
      "source": [
        "# 1) Carregar e preparar a série temporal mensal\n",
        "import pandas as pd\n",
        "df10 = pd.read_csv('DATASETS/IMP_2010.csv', sep=';')\n",
        "df11 = pd.read_csv('DATASETS/IMP_2011.csv', sep=';')\n",
        "df12 = pd.read_csv('DATASETS/IMP_2012.csv', sep=';')\n",
        "df13 = pd.read_csv('DATASETS/IMP_2013.csv', sep=';')\n",
        "df14 = pd.read_csv('DATASETS/IMP_2014.csv', sep=';')\n",
        "df15 = pd.read_csv('DATASETS/IMP_2015.csv', sep=';')\n",
        "df16 = pd.read_csv('DATASETS/IMP_2016.csv', sep=';')\n",
        "df17 = pd.read_csv('DATASETS/IMP_2017.csv', sep=';')\n",
        "df18 = pd.read_csv('DATASETS/IMP_2018.csv', sep=';')\n",
        "df19 = pd.read_csv('DATASETS/IMP_2019.csv', sep=';')\n",
        "df20 = pd.read_csv('DATASETS/IMP_2020.csv', sep=';')\n",
        "df21 = pd.read_csv('DATASETS/IMP_2021.csv', sep=';')\n",
        "df22 = pd.read_csv('DATASETS/IMP_2022.csv', sep=';')\n",
        "df23 = pd.read_csv('DATASETS/IMP_2023.csv', sep=';')\n",
        "df24 = pd.read_csv('DATASETS/IMP_2024.csv', sep=';')\n",
        "df = pd.concat([df10, df11, df12, df13, df14, df15, df16, df17, df18, df19, df20, df21, df22, df23, df24], ignore_index=True)\n"
      ]
    },
    {
      "cell_type": "code",
      "execution_count": null,
      "metadata": {
        "id": "IG06jvKL7S02"
      },
      "outputs": [],
      "source": [
        "#31052000\n",
        "#84713012\n",
        "df_main = df[(df['CO_NCM'] == 84713012)].copy()\n",
        "df_main['CO_ANO'] = df['CO_ANO'].astype(int)\n",
        "df_main['CO_MES'] = df['CO_MES'].astype(int)\n",
        "df_main['date'] = pd.to_datetime(df_main['CO_ANO'].astype(str) + '-' + df_main['CO_MES'].astype(str) + '-01')\n",
        "ts = df_main.groupby('date')['KG_LIQUIDO'].sum().sort_index()"
      ]
    },
    {
      "cell_type": "code",
      "execution_count": null,
      "metadata": {
        "colab": {
          "base_uri": "https://localhost:8080/",
          "height": 490
        },
        "id": "JsO5u9G0wvNg",
        "outputId": "2fbee712-2f84-4b19-d90b-e8ae0f196c95"
      },
      "outputs": [],
      "source": [
        "ts\n"
      ]
    },
    {
      "cell_type": "code",
      "execution_count": null,
      "metadata": {
        "collapsed": true,
        "id": "bKjXJRgKvXXk"
      },
      "outputs": [],
      "source": [
        "# 2) Normalizar (MinMax)\n",
        "values = ts.values.reshape(-1, 1)\n",
        "scaler = MinMaxScaler(feature_range=(0, 1))\n",
        "scaled = scaler.fit_transform(values)\n",
        "\n",
        "# 3) Gerar janelas (window = 12 meses)\n",
        "window = 12\n",
        "X, y = [], []\n",
        "for i in range(window, len(scaled)):\n",
        "    X.append(scaled[i-window:i, 0])\n",
        "    y.append(scaled[i, 0])\n",
        "X, y = np.array(X), np.array(y)\n",
        "\n",
        "# 4) Reshape para [samples, timesteps, features]\n",
        "X = X.reshape((X.shape[0], X.shape[1], 1))\n",
        "\n",
        "# 5) Separar treino e teste (80% treino)\n",
        "split = int(len(X) * 0.8)\n",
        "X_train, X_test = X[:split], X[split:]\n",
        "y_train, y_test = y[:split], y[split:]\n",
        "\n",
        "\n",
        "\n"
      ]
    },
    {
      "cell_type": "code",
      "execution_count": null,
      "metadata": {
        "id": "qLVm51nZS2ir"
      },
      "outputs": [],
      "source": [
        "# --- 1. Definir a métrica R² ---\n",
        "import tensorflow.keras.backend as K\n",
        "def r2_keras(y_true, y_pred):\n",
        "    ss_res = K.sum(K.square(y_true - y_pred))\n",
        "    ss_tot = K.sum(K.square(y_true - K.mean(y_true)))\n",
        "    return 1 - ss_res / (ss_tot + K.epsilon())"
      ]
    },
    {
      "cell_type": "code",
      "execution_count": null,
      "metadata": {
        "colab": {
          "base_uri": "https://localhost:8080/",
          "height": 1000
        },
        "id": "7iZGt_lVhpwH",
        "outputId": "c05d04f8-ac45-401b-d262-8384106c4108"
      },
      "outputs": [],
      "source": [
        "# 6) Definir o modelo LSTM\n",
        "model = Sequential([\n",
        "    LSTM(50, activation='sigmoid', input_shape=(window, 1),\n",
        "         dropout=0.20,            # 20% de dropout nas entradas\n",
        "         recurrent_dropout=0.20   # 20% de dropout nos estados recorrentes\n",
        "         ),\n",
        "    Dropout(0.20),\n",
        "    Dense(10),\n",
        "    Dense(1)\n",
        "])\n",
        "\n",
        "opt = tf.keras.optimizers.Adam(learning_rate=0.0005)\n",
        "rmse_metric = tf.keras.metrics.RootMeanSquaredError(name=\"rmse\")\n",
        "import tensorflow.keras.backend as K\n",
        "\n",
        "def rmse_loss(y_true, y_pred):\n",
        "    return K.sqrt(K.mean(K.square(y_true - y_pred)))\n",
        "\n",
        "#mse\n",
        "model.compile(optimizer=opt, loss=rmse_loss, metrics=['mape', 'mae',\n",
        "                                                  'mse', rmse_metric])\n",
        "\n",
        "#model.load_weights('/content/melhor_modelo_MAPE.h5')\n",
        "\n",
        "checkpoint_cb = ModelCheckpoint(\n",
        "    'melhor_modelo_.h5',\n",
        "    monitor='val_loss',\n",
        "    save_best_only=True,\n",
        "    save_weights_only=False,\n",
        "    mode='min'\n",
        ")\n",
        "\n",
        "es_cb = EarlyStopping(\n",
        "    monitor='val_loss',\n",
        "    patience=10,\n",
        "    restore_best_weights=True,\n",
        "    verbose=1\n",
        ")\n",
        "\n",
        "#model.load_weights('/content/melhor_modelo_2.h5')\n",
        "\n",
        "\n",
        "\n",
        "## 7) Treinar\n",
        "history = model.fit(\n",
        "    X_train, y_train,\n",
        "    epochs=100,\n",
        "    batch_size=25,\n",
        "    validation_data=(X_test, y_test),\n",
        "    callbacks=[checkpoint_cb],\n",
        "    verbose=2\n",
        ")\n",
        "\n",
        "# 8) Previsão e inversão de escala\n",
        "y_pred = model.predict(X_test)\n",
        "y_pred_inv = scaler.inverse_transform(y_pred)\n",
        "y_test_inv = scaler.inverse_transform(y_test.reshape(-1, 1))\n",
        "\n",
        "# 9) Plotar resultados\n",
        "plt.figure(figsize=(8, 4))\n",
        "plt.plot(ts.index[window + split:], y_test_inv, label='Real')\n",
        "plt.plot(ts.index[window + split:], y_pred_inv, label='Previsto', linestyle='--')\n",
        "plt.title('LSTM: Previsão de KG_LIQUIDO (NCM 84713012)')\n",
        "plt.xlabel('Data')\n",
        "plt.ylabel('KG Líquido')\n",
        "plt.legend()\n",
        "plt.tight_layout()\n",
        "plt.show()"
      ]
    },
    {
      "cell_type": "code",
      "execution_count": null,
      "metadata": {
        "colab": {
          "base_uri": "https://localhost:8080/"
        },
        "id": "Rp1eqkaY1kYi",
        "outputId": "c7ec21a8-2157-4f1c-b010-07eb0eaea570"
      },
      "outputs": [],
      "source": [
        "# supondo que você salvou com:\n",
        "# model.save('melhor_modelo.h5')\n",
        "# ou o ModelCheckpoint criou esse arquivo\n",
        "\n",
        "scoreCkpt = model.evaluate(X_test, y_test, verbose=2)"
      ]
    },
    {
      "cell_type": "code",
      "execution_count": null,
      "metadata": {
        "colab": {
          "base_uri": "https://localhost:8080/"
        },
        "id": "1VURZH-foGlI",
        "outputId": "09ffcd70-a589-4ea2-9a28-9f3133ab9af6"
      },
      "outputs": [],
      "source": [
        "print(scoreCkpt)"
      ]
    }
  ],
  "metadata": {
    "colab": {
      "provenance": []
    },
    "kernelspec": {
      "display_name": "Python 3",
      "name": "python3"
    },
    "language_info": {
      "codemirror_mode": {
        "name": "ipython",
        "version": 3
      },
      "file_extension": ".py",
      "mimetype": "text/x-python",
      "name": "python",
      "nbconvert_exporter": "python",
      "pygments_lexer": "ipython3",
      "version": "3.10.11"
    }
  },
  "nbformat": 4,
  "nbformat_minor": 0
}
