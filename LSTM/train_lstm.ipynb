{
  "nbformat": 4,
  "nbformat_minor": 0,
  "metadata": {
    "colab": {
      "provenance": []
    },
    "kernelspec": {
      "name": "python3",
      "display_name": "Python 3"
    },
    "language_info": {
      "name": "python"
    }
  },
  "cells": [
    {
      "cell_type": "code",
      "source": [
        "import pandas as pd\n",
        "import numpy as np\n",
        "import matplotlib.pyplot as plt\n",
        "from sklearn.preprocessing import MinMaxScaler\n",
        "import tensorflow as tf\n",
        "from tensorflow.keras.models import Sequential\n",
        "from tensorflow.keras.layers import LSTM, Dense, Dropout\n",
        "from tensorflow.keras.callbacks import ModelCheckpoint\n",
        "from tensorflow.keras.models import load_model\n",
        "from tensorflow.keras.callbacks import EarlyStopping\n"
      ],
      "metadata": {
        "id": "RXbATOSCva2_"
      },
      "execution_count": null,
      "outputs": []
    },
    {
      "cell_type": "code",
      "source": [
        "# 1) Carregar e preparar a série temporal mensal\n",
        "df10 = pd.read_csv('/IMP_2010.csv', sep=';')\n",
        "df11 = pd.read_csv('/IMP_2011.csv', sep=';')\n",
        "df12 = pd.read_csv('/IMP_2012.csv', sep=';')\n",
        "df13 = pd.read_csv('/IMP_2013.csv', sep=';')\n",
        "df14 = pd.read_csv('/IMP_2014.csv', sep=';')\n",
        "df15 = pd.read_csv('/IMP_2015.csv', sep=';')\n",
        "df16 = pd.read_csv('/IMP_2016.csv', sep=';')\n",
        "df17 = pd.read_csv('/IMP_2017.csv', sep=';')\n",
        "df18 = pd.read_csv('/IMP_2018.csv', sep=';')\n",
        "df19 = pd.read_csv('/IMP_2019.csv', sep=';')\n",
        "df20 = pd.read_csv('/IMP_2020.csv', sep=';')\n",
        "df21 = pd.read_csv('/IMP_2021.csv', sep=';')\n",
        "df22 = pd.read_csv('/IMP_2022.csv', sep=';')\n",
        "df23 = pd.read_csv('/IMP_2023.csv', sep=';')\n",
        "df24 = pd.read_csv('/IMP_2024.csv', sep=';')\n",
        "df = pd.concat([df10, df11, df12, df13, df14, df15, df16, df17, df18, df19, df20, df21, df22, df23, df24], ignore_index=True)\n"
      ],
      "metadata": {
        "id": "20wNd6jSvcG5"
      },
      "execution_count": null,
      "outputs": []
    },
    {
      "cell_type": "code",
      "source": [
        "#31052000\n",
        "#84713012\n",
        "df_main = df[(df['CO_NCM'] == 84713012)].copy()\n",
        "df_main['CO_ANO'] = df['CO_ANO'].astype(int)\n",
        "df_main['CO_MES'] = df['CO_MES'].astype(int)\n",
        "df_main['date'] = pd.to_datetime(df_main['CO_ANO'].astype(str) + '-' + df_main['CO_MES'].astype(str) + '-01')\n",
        "ts = df_main.groupby('date')['KG_LIQUIDO'].sum().sort_index()"
      ],
      "metadata": {
        "id": "IG06jvKL7S02"
      },
      "execution_count": null,
      "outputs": []
    },
    {
      "cell_type": "code",
      "source": [
        "ts\n"
      ],
      "metadata": {
        "id": "JsO5u9G0wvNg",
        "colab": {
          "base_uri": "https://localhost:8080/",
          "height": 490
        },
        "outputId": "2fbee712-2f84-4b19-d90b-e8ae0f196c95"
      },
      "execution_count": null,
      "outputs": [
        {
          "output_type": "execute_result",
          "data": {
            "text/plain": [
              "date\n",
              "2010-01-01     49677\n",
              "2010-02-01     46104\n",
              "2010-03-01     96411\n",
              "2010-04-01    125201\n",
              "2010-05-01    116023\n",
              "               ...  \n",
              "2024-08-01     29665\n",
              "2024-09-01     19501\n",
              "2024-10-01     25416\n",
              "2024-11-01     27425\n",
              "2024-12-01     32514\n",
              "Name: KG_LIQUIDO, Length: 180, dtype: int64"
            ],
            "text/html": [
              "<div>\n",
              "<style scoped>\n",
              "    .dataframe tbody tr th:only-of-type {\n",
              "        vertical-align: middle;\n",
              "    }\n",
              "\n",
              "    .dataframe tbody tr th {\n",
              "        vertical-align: top;\n",
              "    }\n",
              "\n",
              "    .dataframe thead th {\n",
              "        text-align: right;\n",
              "    }\n",
              "</style>\n",
              "<table border=\"1\" class=\"dataframe\">\n",
              "  <thead>\n",
              "    <tr style=\"text-align: right;\">\n",
              "      <th></th>\n",
              "      <th>KG_LIQUIDO</th>\n",
              "    </tr>\n",
              "    <tr>\n",
              "      <th>date</th>\n",
              "      <th></th>\n",
              "    </tr>\n",
              "  </thead>\n",
              "  <tbody>\n",
              "    <tr>\n",
              "      <th>2010-01-01</th>\n",
              "      <td>49677</td>\n",
              "    </tr>\n",
              "    <tr>\n",
              "      <th>2010-02-01</th>\n",
              "      <td>46104</td>\n",
              "    </tr>\n",
              "    <tr>\n",
              "      <th>2010-03-01</th>\n",
              "      <td>96411</td>\n",
              "    </tr>\n",
              "    <tr>\n",
              "      <th>2010-04-01</th>\n",
              "      <td>125201</td>\n",
              "    </tr>\n",
              "    <tr>\n",
              "      <th>2010-05-01</th>\n",
              "      <td>116023</td>\n",
              "    </tr>\n",
              "    <tr>\n",
              "      <th>...</th>\n",
              "      <td>...</td>\n",
              "    </tr>\n",
              "    <tr>\n",
              "      <th>2024-08-01</th>\n",
              "      <td>29665</td>\n",
              "    </tr>\n",
              "    <tr>\n",
              "      <th>2024-09-01</th>\n",
              "      <td>19501</td>\n",
              "    </tr>\n",
              "    <tr>\n",
              "      <th>2024-10-01</th>\n",
              "      <td>25416</td>\n",
              "    </tr>\n",
              "    <tr>\n",
              "      <th>2024-11-01</th>\n",
              "      <td>27425</td>\n",
              "    </tr>\n",
              "    <tr>\n",
              "      <th>2024-12-01</th>\n",
              "      <td>32514</td>\n",
              "    </tr>\n",
              "  </tbody>\n",
              "</table>\n",
              "<p>180 rows × 1 columns</p>\n",
              "</div><br><label><b>dtype:</b> int64</label>"
            ]
          },
          "metadata": {},
          "execution_count": 127
        }
      ]
    },
    {
      "cell_type": "code",
      "execution_count": null,
      "metadata": {
        "id": "bKjXJRgKvXXk",
        "collapsed": true
      },
      "outputs": [],
      "source": [
        "# 2) Normalizar (MinMax)\n",
        "values = ts.values.reshape(-1, 1)\n",
        "scaler = MinMaxScaler(feature_range=(0, 1))\n",
        "scaled = scaler.fit_transform(values)\n",
        "\n",
        "# 3) Gerar janelas (window = 12 meses)\n",
        "window = 12\n",
        "X, y = [], []\n",
        "for i in range(window, len(scaled)):\n",
        "    X.append(scaled[i-window:i, 0])\n",
        "    y.append(scaled[i, 0])\n",
        "X, y = np.array(X), np.array(y)\n",
        "\n",
        "# 4) Reshape para [samples, timesteps, features]\n",
        "X = X.reshape((X.shape[0], X.shape[1], 1))\n",
        "\n",
        "# 5) Separar treino e teste (80% treino)\n",
        "split = int(len(X) * 0.8)\n",
        "X_train, X_test = X[:split], X[split:]\n",
        "y_train, y_test = y[:split], y[split:]\n",
        "\n",
        "\n",
        "\n"
      ]
    },
    {
      "cell_type": "code",
      "source": [
        "# --- 1. Definir a métrica R² ---\n",
        "import tensorflow.keras.backend as K\n",
        "def r2_keras(y_true, y_pred):\n",
        "    ss_res = K.sum(K.square(y_true - y_pred))\n",
        "    ss_tot = K.sum(K.square(y_true - K.mean(y_true)))\n",
        "    return 1 - ss_res / (ss_tot + K.epsilon())"
      ],
      "metadata": {
        "id": "qLVm51nZS2ir"
      },
      "execution_count": null,
      "outputs": []
    },
    {
      "cell_type": "code",
      "source": [
        "# 6) Definir o modelo LSTM\n",
        "model = Sequential([\n",
        "    LSTM(50, activation='sigmoid', input_shape=(window, 1),\n",
        "         dropout=0.20,            # 20% de dropout nas entradas\n",
        "         recurrent_dropout=0.20   # 20% de dropout nos estados recorrentes\n",
        "         ),\n",
        "    Dropout(0.20),\n",
        "    Dense(10),\n",
        "    Dense(1)\n",
        "])\n",
        "\n",
        "opt = tf.keras.optimizers.Adam(learning_rate=0.0005)\n",
        "rmse_metric = tf.keras.metrics.RootMeanSquaredError(name=\"rmse\")\n",
        "import tensorflow.keras.backend as K\n",
        "\n",
        "def rmse_loss(y_true, y_pred):\n",
        "    return K.sqrt(K.mean(K.square(y_true - y_pred)))\n",
        "\n",
        "#mse\n",
        "model.compile(optimizer=opt, loss=rmse_loss, metrics=['mape', 'mae',\n",
        "                                                  'mse', rmse_metric])\n",
        "\n",
        "#model.load_weights('/content/melhor_modelo_MAPE.h5')\n",
        "\n",
        "checkpoint_cb = ModelCheckpoint(\n",
        "    'melhor_modelo_.h5',\n",
        "    monitor='val_loss',\n",
        "    save_best_only=True,\n",
        "    save_weights_only=False,\n",
        "    mode='min'\n",
        ")\n",
        "\n",
        "es_cb = EarlyStopping(\n",
        "    monitor='val_loss',\n",
        "    patience=10,\n",
        "    restore_best_weights=True,\n",
        "    verbose=1\n",
        ")\n",
        "\n",
        "#model.load_weights('/content/melhor_modelo_2.h5')\n",
        "\n",
        "\n",
        "\n",
        "## 7) Treinar\n",
        "history = model.fit(\n",
        "    X_train, y_train,\n",
        "    epochs=100,\n",
        "    batch_size=25,\n",
        "    validation_data=(X_test, y_test),\n",
        "    callbacks=[checkpoint_cb],\n",
        "    verbose=2\n",
        ")\n",
        "\n",
        "# 8) Previsão e inversão de escala\n",
        "y_pred = model.predict(X_test)\n",
        "y_pred_inv = scaler.inverse_transform(y_pred)\n",
        "y_test_inv = scaler.inverse_transform(y_test.reshape(-1, 1))\n",
        "\n",
        "# 9) Plotar resultados\n",
        "plt.figure(figsize=(8, 4))\n",
        "plt.plot(ts.index[window + split:], y_test_inv, label='Real')\n",
        "plt.plot(ts.index[window + split:], y_pred_inv, label='Previsto', linestyle='--')\n",
        "plt.title('LSTM: Previsão de KG_LIQUIDO (NCM 84713012)')\n",
        "plt.xlabel('Data')\n",
        "plt.ylabel('KG Líquido')\n",
        "plt.legend()\n",
        "plt.tight_layout()\n",
        "plt.show()"
      ],
      "metadata": {
        "id": "7iZGt_lVhpwH",
        "colab": {
          "base_uri": "https://localhost:8080/",
          "height": 1000
        },
        "outputId": "c05d04f8-ac45-401b-d262-8384106c4108"
      },
      "execution_count": null,
      "outputs": [
        {
          "output_type": "stream",
          "name": "stdout",
          "text": [
            "Epoch 1/100\n"
          ]
        },
        {
          "output_type": "stream",
          "name": "stderr",
          "text": [
            "/usr/local/lib/python3.11/dist-packages/keras/src/layers/rnn/rnn.py:200: UserWarning: Do not pass an `input_shape`/`input_dim` argument to a layer. When using Sequential models, prefer using an `Input(shape)` object as the first layer in the model instead.\n",
            "  super().__init__(**kwargs)\n",
            "WARNING:absl:You are saving your model as an HDF5 file via `model.save()` or `keras.saving.save_model(model)`. This file format is considered legacy. We recommend using instead the native Keras format, e.g. `model.save('my_model.keras')` or `keras.saving.save_model(model, 'my_model.keras')`. \n"
          ]
        },
        {
          "output_type": "stream",
          "name": "stdout",
          "text": [
            "6/6 - 6s - 938ms/step - loss: 0.4588 - mae: 0.4043 - mape: 4787463.5000 - mse: 0.2135 - rmse: 0.4620 - val_loss: 0.1556 - val_mae: 0.1493 - val_mape: 226.6840 - val_mse: 0.0243 - val_rmse: 0.1560\n",
            "Epoch 2/100\n"
          ]
        },
        {
          "output_type": "stream",
          "name": "stderr",
          "text": [
            "WARNING:absl:You are saving your model as an HDF5 file via `model.save()` or `keras.saving.save_model(model)`. This file format is considered legacy. We recommend using instead the native Keras format, e.g. `model.save('my_model.keras')` or `keras.saving.save_model(model, 'my_model.keras')`. \n"
          ]
        },
        {
          "output_type": "stream",
          "name": "stdout",
          "text": [
            "6/6 - 0s - 55ms/step - loss: 0.2842 - mae: 0.2322 - mape: 2412278.5000 - mse: 0.0821 - rmse: 0.2864 - val_loss: 0.1018 - val_mae: 0.0913 - val_mape: 94.5277 - val_mse: 0.0104 - val_rmse: 0.1019\n",
            "Epoch 3/100\n"
          ]
        },
        {
          "output_type": "stream",
          "name": "stderr",
          "text": [
            "WARNING:absl:You are saving your model as an HDF5 file via `model.save()` or `keras.saving.save_model(model)`. This file format is considered legacy. We recommend using instead the native Keras format, e.g. `model.save('my_model.keras')` or `keras.saving.save_model(model, 'my_model.keras')`. \n"
          ]
        },
        {
          "output_type": "stream",
          "name": "stdout",
          "text": [
            "6/6 - 1s - 102ms/step - loss: 0.3070 - mae: 0.2445 - mape: 1645545.0000 - mse: 0.0964 - rmse: 0.3104 - val_loss: 0.0816 - val_mae: 0.0681 - val_mape: 63.9651 - val_mse: 0.0067 - val_rmse: 0.0816\n",
            "Epoch 4/100\n"
          ]
        },
        {
          "output_type": "stream",
          "name": "stderr",
          "text": [
            "WARNING:absl:You are saving your model as an HDF5 file via `model.save()` or `keras.saving.save_model(model)`. This file format is considered legacy. We recommend using instead the native Keras format, e.g. `model.save('my_model.keras')` or `keras.saving.save_model(model, 'my_model.keras')`. \n"
          ]
        },
        {
          "output_type": "stream",
          "name": "stdout",
          "text": [
            "6/6 - 1s - 104ms/step - loss: 0.2752 - mae: 0.2198 - mape: 1692934.2500 - mse: 0.0789 - rmse: 0.2809 - val_loss: 0.0505 - val_mae: 0.0443 - val_mape: 73.3742 - val_mse: 0.0028 - val_rmse: 0.0530\n",
            "Epoch 5/100\n",
            "6/6 - 1s - 102ms/step - loss: 0.2786 - mae: 0.2222 - mape: 693994.0000 - mse: 0.0793 - rmse: 0.2816 - val_loss: 0.0750 - val_mae: 0.0685 - val_mape: 112.8682 - val_mse: 0.0058 - val_rmse: 0.0763\n",
            "Epoch 6/100\n"
          ]
        },
        {
          "output_type": "stream",
          "name": "stderr",
          "text": [
            "WARNING:absl:You are saving your model as an HDF5 file via `model.save()` or `keras.saving.save_model(model)`. This file format is considered legacy. We recommend using instead the native Keras format, e.g. `model.save('my_model.keras')` or `keras.saving.save_model(model, 'my_model.keras')`. \n"
          ]
        },
        {
          "output_type": "stream",
          "name": "stdout",
          "text": [
            "6/6 - 1s - 109ms/step - loss: 0.2476 - mae: 0.1996 - mape: 2607884.0000 - mse: 0.0618 - rmse: 0.2487 - val_loss: 0.0500 - val_mae: 0.0437 - val_mape: 72.4305 - val_mse: 0.0028 - val_rmse: 0.0525\n",
            "Epoch 7/100\n",
            "6/6 - 0s - 55ms/step - loss: 0.2937 - mae: 0.2345 - mape: 810818.4375 - mse: 0.0869 - rmse: 0.2948 - val_loss: 0.0549 - val_mae: 0.0410 - val_mape: 39.5798 - val_mse: 0.0030 - val_rmse: 0.0550\n",
            "Epoch 8/100\n"
          ]
        },
        {
          "output_type": "stream",
          "name": "stderr",
          "text": [
            "WARNING:absl:You are saving your model as an HDF5 file via `model.save()` or `keras.saving.save_model(model)`. This file format is considered legacy. We recommend using instead the native Keras format, e.g. `model.save('my_model.keras')` or `keras.saving.save_model(model, 'my_model.keras')`. \n"
          ]
        },
        {
          "output_type": "stream",
          "name": "stdout",
          "text": [
            "6/6 - 0s - 37ms/step - loss: 0.2539 - mae: 0.2032 - mape: 1109475.2500 - mse: 0.0646 - rmse: 0.2542 - val_loss: 0.0441 - val_mae: 0.0377 - val_mape: 59.3256 - val_mse: 0.0022 - val_rmse: 0.0467\n",
            "Epoch 9/100\n",
            "6/6 - 0s - 29ms/step - loss: 0.2378 - mae: 0.1938 - mape: 1686591.2500 - mse: 0.0579 - rmse: 0.2406 - val_loss: 0.0727 - val_mae: 0.0663 - val_mape: 109.4688 - val_mse: 0.0055 - val_rmse: 0.0740\n",
            "Epoch 10/100\n",
            "6/6 - 0s - 30ms/step - loss: 0.2497 - mae: 0.2035 - mape: 501462.6250 - mse: 0.0656 - rmse: 0.2562 - val_loss: 0.0745 - val_mae: 0.0680 - val_mape: 112.0489 - val_mse: 0.0057 - val_rmse: 0.0757\n",
            "Epoch 11/100\n"
          ]
        },
        {
          "output_type": "stream",
          "name": "stderr",
          "text": [
            "WARNING:absl:You are saving your model as an HDF5 file via `model.save()` or `keras.saving.save_model(model)`. This file format is considered legacy. We recommend using instead the native Keras format, e.g. `model.save('my_model.keras')` or `keras.saving.save_model(model, 'my_model.keras')`. \n"
          ]
        },
        {
          "output_type": "stream",
          "name": "stdout",
          "text": [
            "6/6 - 0s - 60ms/step - loss: 0.2579 - mae: 0.2051 - mape: 2512495.0000 - mse: 0.0679 - rmse: 0.2606 - val_loss: 0.0429 - val_mae: 0.0363 - val_mape: 50.7073 - val_mse: 0.0020 - val_rmse: 0.0446\n",
            "Epoch 12/100\n",
            "6/6 - 0s - 38ms/step - loss: 0.2281 - mae: 0.1754 - mape: 159448.7188 - mse: 0.0534 - rmse: 0.2310 - val_loss: 0.0493 - val_mae: 0.0430 - val_mape: 71.2635 - val_mse: 0.0027 - val_rmse: 0.0518\n",
            "Epoch 13/100\n",
            "6/6 - 0s - 32ms/step - loss: 0.2219 - mae: 0.1780 - mape: 903966.8125 - mse: 0.0506 - rmse: 0.2250 - val_loss: 0.0602 - val_mae: 0.0541 - val_mape: 90.1099 - val_mse: 0.0038 - val_rmse: 0.0620\n",
            "Epoch 14/100\n",
            "6/6 - 0s - 47ms/step - loss: 0.2482 - mae: 0.1925 - mape: 1628727.0000 - mse: 0.0622 - rmse: 0.2495 - val_loss: 0.0492 - val_mae: 0.0429 - val_mape: 71.1013 - val_mse: 0.0027 - val_rmse: 0.0517\n",
            "Epoch 15/100\n",
            "6/6 - 0s - 29ms/step - loss: 0.2284 - mae: 0.1825 - mape: 769243.8750 - mse: 0.0523 - rmse: 0.2288 - val_loss: 0.0449 - val_mae: 0.0383 - val_mape: 61.6784 - val_mse: 0.0023 - val_rmse: 0.0475\n",
            "Epoch 16/100\n"
          ]
        },
        {
          "output_type": "stream",
          "name": "stderr",
          "text": [
            "WARNING:absl:You are saving your model as an HDF5 file via `model.save()` or `keras.saving.save_model(model)`. This file format is considered legacy. We recommend using instead the native Keras format, e.g. `model.save('my_model.keras')` or `keras.saving.save_model(model, 'my_model.keras')`. \n"
          ]
        },
        {
          "output_type": "stream",
          "name": "stdout",
          "text": [
            "6/6 - 0s - 37ms/step - loss: 0.2316 - mae: 0.1890 - mape: 1713191.5000 - mse: 0.0541 - rmse: 0.2325 - val_loss: 0.0426 - val_mae: 0.0361 - val_mape: 50.9688 - val_mse: 0.0020 - val_rmse: 0.0444\n",
            "Epoch 17/100\n"
          ]
        },
        {
          "output_type": "stream",
          "name": "stderr",
          "text": [
            "WARNING:absl:You are saving your model as an HDF5 file via `model.save()` or `keras.saving.save_model(model)`. This file format is considered legacy. We recommend using instead the native Keras format, e.g. `model.save('my_model.keras')` or `keras.saving.save_model(model, 'my_model.keras')`. \n"
          ]
        },
        {
          "output_type": "stream",
          "name": "stdout",
          "text": [
            "6/6 - 0s - 39ms/step - loss: 0.2065 - mae: 0.1621 - mape: 1328642.6250 - mse: 0.0442 - rmse: 0.2101 - val_loss: 0.0426 - val_mae: 0.0361 - val_mape: 53.7553 - val_mse: 0.0020 - val_rmse: 0.0448\n",
            "Epoch 18/100\n",
            "6/6 - 0s - 30ms/step - loss: 0.2323 - mae: 0.1879 - mape: 4896077.0000 - mse: 0.0551 - rmse: 0.2348 - val_loss: 0.0429 - val_mae: 0.0365 - val_mape: 55.9469 - val_mse: 0.0021 - val_rmse: 0.0453\n",
            "Epoch 19/100\n",
            "6/6 - 0s - 30ms/step - loss: 0.2235 - mae: 0.1765 - mape: 744136.8125 - mse: 0.0504 - rmse: 0.2244 - val_loss: 0.0503 - val_mae: 0.0440 - val_mape: 73.2363 - val_mse: 0.0028 - val_rmse: 0.0527\n",
            "Epoch 20/100\n",
            "6/6 - 0s - 52ms/step - loss: 0.2318 - mae: 0.1795 - mape: 2010074.7500 - mse: 0.0542 - rmse: 0.2327 - val_loss: 0.0724 - val_mae: 0.0660 - val_mape: 109.0268 - val_mse: 0.0054 - val_rmse: 0.0737\n",
            "Epoch 21/100\n",
            "6/6 - 0s - 46ms/step - loss: 0.2269 - mae: 0.1845 - mape: 415768.9688 - mse: 0.0522 - rmse: 0.2285 - val_loss: 0.0673 - val_mae: 0.0612 - val_mape: 101.3667 - val_mse: 0.0047 - val_rmse: 0.0687\n",
            "Epoch 22/100\n",
            "6/6 - 0s - 36ms/step - loss: 0.2146 - mae: 0.1721 - mape: 878546.4375 - mse: 0.0467 - rmse: 0.2160 - val_loss: 0.0433 - val_mae: 0.0359 - val_mape: 47.1819 - val_mse: 0.0020 - val_rmse: 0.0445\n",
            "Epoch 23/100\n",
            "6/6 - 0s - 29ms/step - loss: 0.2025 - mae: 0.1531 - mape: 838059.5000 - mse: 0.0422 - rmse: 0.2055 - val_loss: 0.0483 - val_mae: 0.0369 - val_mape: 40.4074 - val_mse: 0.0024 - val_rmse: 0.0486\n",
            "Epoch 24/100\n",
            "6/6 - 0s - 52ms/step - loss: 0.2236 - mae: 0.1815 - mape: 1050621.0000 - mse: 0.0503 - rmse: 0.2242 - val_loss: 0.0429 - val_mae: 0.0364 - val_mape: 56.4308 - val_mse: 0.0021 - val_rmse: 0.0453\n",
            "Epoch 25/100\n",
            "6/6 - 0s - 47ms/step - loss: 0.2017 - mae: 0.1645 - mape: 1347214.2500 - mse: 0.0409 - rmse: 0.2022 - val_loss: 0.0620 - val_mae: 0.0560 - val_mape: 93.1259 - val_mse: 0.0041 - val_rmse: 0.0636\n",
            "Epoch 26/100\n",
            "6/6 - 0s - 29ms/step - loss: 0.1785 - mae: 0.1364 - mape: 520716.4062 - mse: 0.0326 - rmse: 0.1804 - val_loss: 0.0537 - val_mae: 0.0474 - val_mape: 79.3282 - val_mse: 0.0031 - val_rmse: 0.0558\n",
            "Epoch 27/100\n",
            "6/6 - 0s - 29ms/step - loss: 0.1870 - mae: 0.1494 - mape: 743951.5625 - mse: 0.0353 - rmse: 0.1878 - val_loss: 0.0533 - val_mae: 0.0471 - val_mape: 78.7306 - val_mse: 0.0031 - val_rmse: 0.0555\n",
            "Epoch 28/100\n",
            "6/6 - 0s - 30ms/step - loss: 0.1839 - mae: 0.1494 - mape: 843400.6875 - mse: 0.0346 - rmse: 0.1859 - val_loss: 0.0566 - val_mae: 0.0503 - val_mape: 84.1951 - val_mse: 0.0034 - val_rmse: 0.0585\n",
            "Epoch 29/100\n",
            "6/6 - 0s - 33ms/step - loss: 0.1813 - mae: 0.1394 - mape: 1812269.7500 - mse: 0.0337 - rmse: 0.1837 - val_loss: 0.0427 - val_mae: 0.0362 - val_mape: 56.1451 - val_mse: 0.0020 - val_rmse: 0.0451\n",
            "Epoch 30/100\n",
            "6/6 - 0s - 45ms/step - loss: 0.1746 - mae: 0.1338 - mape: 347817.8125 - mse: 0.0312 - rmse: 0.1767 - val_loss: 0.0511 - val_mae: 0.0448 - val_mape: 74.7838 - val_mse: 0.0028 - val_rmse: 0.0534\n",
            "Epoch 31/100\n",
            "6/6 - 0s - 30ms/step - loss: 0.1970 - mae: 0.1538 - mape: 4425513.0000 - mse: 0.0410 - rmse: 0.2025 - val_loss: 0.0566 - val_mae: 0.0504 - val_mape: 84.3398 - val_mse: 0.0034 - val_rmse: 0.0585\n",
            "Epoch 32/100\n",
            "6/6 - 0s - 29ms/step - loss: 0.1614 - mae: 0.1278 - mape: 2844280.5000 - mse: 0.0268 - rmse: 0.1636 - val_loss: 0.0462 - val_mae: 0.0397 - val_mape: 65.2062 - val_mse: 0.0024 - val_rmse: 0.0487\n",
            "Epoch 33/100\n"
          ]
        },
        {
          "output_type": "stream",
          "name": "stderr",
          "text": [
            "WARNING:absl:You are saving your model as an HDF5 file via `model.save()` or `keras.saving.save_model(model)`. This file format is considered legacy. We recommend using instead the native Keras format, e.g. `model.save('my_model.keras')` or `keras.saving.save_model(model, 'my_model.keras')`. \n"
          ]
        },
        {
          "output_type": "stream",
          "name": "stdout",
          "text": [
            "6/6 - 0s - 62ms/step - loss: 0.1853 - mae: 0.1449 - mape: 180951.8750 - mse: 0.0358 - rmse: 0.1891 - val_loss: 0.0423 - val_mae: 0.0357 - val_mape: 54.4335 - val_mse: 0.0020 - val_rmse: 0.0446\n",
            "Epoch 34/100\n",
            "6/6 - 0s - 29ms/step - loss: 0.1763 - mae: 0.1399 - mape: 857836.3125 - mse: 0.0314 - rmse: 0.1772 - val_loss: 0.0426 - val_mae: 0.0355 - val_mape: 47.8059 - val_mse: 0.0019 - val_rmse: 0.0439\n",
            "Epoch 35/100\n",
            "6/6 - 0s - 30ms/step - loss: 0.1673 - mae: 0.1306 - mape: 1031345.8125 - mse: 0.0287 - rmse: 0.1694 - val_loss: 0.0509 - val_mae: 0.0445 - val_mape: 74.4218 - val_mse: 0.0028 - val_rmse: 0.0532\n",
            "Epoch 36/100\n",
            "6/6 - 0s - 31ms/step - loss: 0.1647 - mae: 0.1295 - mape: 1479381.2500 - mse: 0.0276 - rmse: 0.1660 - val_loss: 0.0446 - val_mae: 0.0380 - val_mape: 61.6823 - val_mse: 0.0022 - val_rmse: 0.0472\n",
            "Epoch 37/100\n",
            "6/6 - 0s - 48ms/step - loss: 0.1560 - mae: 0.1249 - mape: 1401846.2500 - mse: 0.0250 - rmse: 0.1580 - val_loss: 0.0473 - val_mae: 0.0364 - val_mape: 40.4991 - val_mse: 0.0023 - val_rmse: 0.0478\n",
            "Epoch 38/100\n",
            "6/6 - 0s - 32ms/step - loss: 0.1633 - mae: 0.1292 - mape: 1066881.2500 - mse: 0.0268 - rmse: 0.1636 - val_loss: 0.0452 - val_mae: 0.0387 - val_mape: 63.0719 - val_mse: 0.0023 - val_rmse: 0.0477\n",
            "Epoch 39/100\n",
            "6/6 - 0s - 47ms/step - loss: 0.1680 - mae: 0.1366 - mape: 665869.8125 - mse: 0.0283 - rmse: 0.1682 - val_loss: 0.0686 - val_mae: 0.0623 - val_mape: 103.2308 - val_mse: 0.0049 - val_rmse: 0.0699\n",
            "Epoch 40/100\n",
            "6/6 - 0s - 49ms/step - loss: 0.1551 - mae: 0.1183 - mape: 864821.4375 - mse: 0.0246 - rmse: 0.1568 - val_loss: 0.0635 - val_mae: 0.0575 - val_mape: 95.5289 - val_mse: 0.0042 - val_rmse: 0.0651\n",
            "Epoch 41/100\n"
          ]
        },
        {
          "output_type": "stream",
          "name": "stderr",
          "text": [
            "WARNING:absl:You are saving your model as an HDF5 file via `model.save()` or `keras.saving.save_model(model)`. This file format is considered legacy. We recommend using instead the native Keras format, e.g. `model.save('my_model.keras')` or `keras.saving.save_model(model, 'my_model.keras')`. \n"
          ]
        },
        {
          "output_type": "stream",
          "name": "stdout",
          "text": [
            "6/6 - 0s - 59ms/step - loss: 0.1603 - mae: 0.1233 - mape: 2118169.0000 - mse: 0.0260 - rmse: 0.1612 - val_loss: 0.0422 - val_mae: 0.0355 - val_mape: 48.9009 - val_mse: 0.0019 - val_rmse: 0.0437\n",
            "Epoch 42/100\n"
          ]
        },
        {
          "output_type": "stream",
          "name": "stderr",
          "text": [
            "WARNING:absl:You are saving your model as an HDF5 file via `model.save()` or `keras.saving.save_model(model)`. This file format is considered legacy. We recommend using instead the native Keras format, e.g. `model.save('my_model.keras')` or `keras.saving.save_model(model, 'my_model.keras')`. \n"
          ]
        },
        {
          "output_type": "stream",
          "name": "stdout",
          "text": [
            "6/6 - 0s - 43ms/step - loss: 0.1553 - mae: 0.1141 - mape: 394265.8750 - mse: 0.0243 - rmse: 0.1559 - val_loss: 0.0420 - val_mae: 0.0354 - val_mape: 49.8864 - val_mse: 0.0019 - val_rmse: 0.0437\n",
            "Epoch 43/100\n",
            "6/6 - 0s - 45ms/step - loss: 0.1477 - mae: 0.1162 - mape: 285168.4062 - mse: 0.0223 - rmse: 0.1493 - val_loss: 0.0537 - val_mae: 0.0474 - val_mape: 79.3432 - val_mse: 0.0031 - val_rmse: 0.0557\n",
            "Epoch 44/100\n"
          ]
        },
        {
          "output_type": "stream",
          "name": "stderr",
          "text": [
            "WARNING:absl:You are saving your model as an HDF5 file via `model.save()` or `keras.saving.save_model(model)`. This file format is considered legacy. We recommend using instead the native Keras format, e.g. `model.save('my_model.keras')` or `keras.saving.save_model(model, 'my_model.keras')`. \n"
          ]
        },
        {
          "output_type": "stream",
          "name": "stdout",
          "text": [
            "6/6 - 0s - 40ms/step - loss: 0.1560 - mae: 0.1206 - mape: 1600458.6250 - mse: 0.0249 - rmse: 0.1576 - val_loss: 0.0420 - val_mae: 0.0354 - val_mape: 53.1432 - val_mse: 0.0019 - val_rmse: 0.0441\n",
            "Epoch 45/100\n",
            "6/6 - 0s - 35ms/step - loss: 0.1648 - mae: 0.1284 - mape: 403439.9375 - mse: 0.0277 - rmse: 0.1666 - val_loss: 0.0438 - val_mae: 0.0370 - val_mape: 59.5645 - val_mse: 0.0021 - val_rmse: 0.0463\n",
            "Epoch 46/100\n",
            "6/6 - 0s - 31ms/step - loss: 0.1554 - mae: 0.1235 - mape: 158895.0000 - mse: 0.0250 - rmse: 0.1581 - val_loss: 0.0569 - val_mae: 0.0506 - val_mape: 84.7256 - val_mse: 0.0034 - val_rmse: 0.0587\n",
            "Epoch 47/100\n",
            "6/6 - 0s - 36ms/step - loss: 0.1534 - mae: 0.1236 - mape: 269484.7812 - mse: 0.0243 - rmse: 0.1558 - val_loss: 0.0435 - val_mae: 0.0368 - val_mape: 58.9701 - val_mse: 0.0021 - val_rmse: 0.0460\n",
            "Epoch 48/100\n",
            "6/6 - 0s - 50ms/step - loss: 0.1526 - mae: 0.1205 - mape: 589136.1250 - mse: 0.0238 - rmse: 0.1544 - val_loss: 0.0429 - val_mae: 0.0362 - val_mape: 57.1327 - val_mse: 0.0021 - val_rmse: 0.0453\n",
            "Epoch 49/100\n",
            "6/6 - 0s - 61ms/step - loss: 0.1494 - mae: 0.1114 - mape: 749491.6875 - mse: 0.0230 - rmse: 0.1518 - val_loss: 0.0592 - val_mae: 0.0531 - val_mape: 88.6414 - val_mse: 0.0037 - val_rmse: 0.0609\n",
            "Epoch 50/100\n",
            "6/6 - 0s - 45ms/step - loss: 0.1551 - mae: 0.1200 - mape: 462654.5312 - mse: 0.0244 - rmse: 0.1562 - val_loss: 0.0498 - val_mae: 0.0433 - val_mape: 72.3847 - val_mse: 0.0027 - val_rmse: 0.0521\n",
            "Epoch 51/100\n",
            "6/6 - 0s - 50ms/step - loss: 0.1407 - mae: 0.1077 - mape: 2316288.5000 - mse: 0.0209 - rmse: 0.1445 - val_loss: 0.0481 - val_mae: 0.0415 - val_mape: 69.0681 - val_mse: 0.0025 - val_rmse: 0.0504\n",
            "Epoch 52/100\n",
            "6/6 - 0s - 51ms/step - loss: 0.1515 - mae: 0.1160 - mape: 29554.6895 - mse: 0.0230 - rmse: 0.1517 - val_loss: 0.0430 - val_mae: 0.0363 - val_mape: 57.4058 - val_mse: 0.0021 - val_rmse: 0.0454\n",
            "Epoch 53/100\n"
          ]
        },
        {
          "output_type": "stream",
          "name": "stderr",
          "text": [
            "WARNING:absl:You are saving your model as an HDF5 file via `model.save()` or `keras.saving.save_model(model)`. This file format is considered legacy. We recommend using instead the native Keras format, e.g. `model.save('my_model.keras')` or `keras.saving.save_model(model, 'my_model.keras')`. \n"
          ]
        },
        {
          "output_type": "stream",
          "name": "stdout",
          "text": [
            "6/6 - 1s - 109ms/step - loss: 0.1463 - mae: 0.1148 - mape: 798535.7500 - mse: 0.0219 - rmse: 0.1481 - val_loss: 0.0420 - val_mae: 0.0353 - val_mape: 49.1314 - val_mse: 0.0019 - val_rmse: 0.0435\n",
            "Epoch 54/100\n",
            "6/6 - 0s - 51ms/step - loss: 0.1356 - mae: 0.1045 - mape: 515973.9062 - mse: 0.0201 - rmse: 0.1418 - val_loss: 0.0455 - val_mae: 0.0390 - val_mape: 63.8300 - val_mse: 0.0023 - val_rmse: 0.0480\n",
            "Epoch 55/100\n",
            "6/6 - 0s - 56ms/step - loss: 0.1419 - mae: 0.1098 - mape: 236833.2969 - mse: 0.0204 - rmse: 0.1429 - val_loss: 0.0524 - val_mae: 0.0460 - val_mape: 77.0549 - val_mse: 0.0030 - val_rmse: 0.0545\n",
            "Epoch 56/100\n"
          ]
        },
        {
          "output_type": "stream",
          "name": "stderr",
          "text": [
            "WARNING:absl:You are saving your model as an HDF5 file via `model.save()` or `keras.saving.save_model(model)`. This file format is considered legacy. We recommend using instead the native Keras format, e.g. `model.save('my_model.keras')` or `keras.saving.save_model(model, 'my_model.keras')`. \n"
          ]
        },
        {
          "output_type": "stream",
          "name": "stdout",
          "text": [
            "6/6 - 0s - 60ms/step - loss: 0.1348 - mae: 0.1068 - mape: 247382.6719 - mse: 0.0184 - rmse: 0.1356 - val_loss: 0.0418 - val_mae: 0.0353 - val_mape: 51.6824 - val_mse: 0.0019 - val_rmse: 0.0437\n",
            "Epoch 57/100\n",
            "6/6 - 1s - 101ms/step - loss: 0.1466 - mae: 0.1132 - mape: 1060372.2500 - mse: 0.0218 - rmse: 0.1476 - val_loss: 0.0419 - val_mae: 0.0353 - val_mape: 50.0043 - val_mse: 0.0019 - val_rmse: 0.0435\n",
            "Epoch 58/100\n",
            "6/6 - 0s - 52ms/step - loss: 0.1406 - mae: 0.1047 - mape: 514152.1875 - mse: 0.0211 - rmse: 0.1451 - val_loss: 0.0571 - val_mae: 0.0509 - val_mape: 85.1320 - val_mse: 0.0035 - val_rmse: 0.0589\n",
            "Epoch 59/100\n",
            "6/6 - 0s - 83ms/step - loss: 0.1372 - mae: 0.1048 - mape: 1129711.0000 - mse: 0.0198 - rmse: 0.1409 - val_loss: 0.0495 - val_mae: 0.0431 - val_mape: 71.9140 - val_mse: 0.0027 - val_rmse: 0.0518\n",
            "Epoch 60/100\n",
            "6/6 - 0s - 49ms/step - loss: 0.1352 - mae: 0.1050 - mape: 1134553.3750 - mse: 0.0187 - rmse: 0.1366 - val_loss: 0.0429 - val_mae: 0.0362 - val_mape: 57.1286 - val_mse: 0.0021 - val_rmse: 0.0453\n",
            "Epoch 61/100\n",
            "6/6 - 0s - 29ms/step - loss: 0.1448 - mae: 0.1091 - mape: 568206.8125 - mse: 0.0217 - rmse: 0.1473 - val_loss: 0.0458 - val_mae: 0.0393 - val_mape: 64.6285 - val_mse: 0.0023 - val_rmse: 0.0483\n",
            "Epoch 62/100\n",
            "6/6 - 0s - 52ms/step - loss: 0.1535 - mae: 0.1213 - mape: 905666.6875 - mse: 0.0241 - rmse: 0.1551 - val_loss: 0.0436 - val_mae: 0.0369 - val_mape: 59.3136 - val_mse: 0.0021 - val_rmse: 0.0461\n",
            "Epoch 63/100\n",
            "6/6 - 0s - 51ms/step - loss: 0.1310 - mae: 0.1050 - mape: 1661937.3750 - mse: 0.0182 - rmse: 0.1350 - val_loss: 0.0501 - val_mae: 0.0436 - val_mape: 72.9190 - val_mse: 0.0027 - val_rmse: 0.0523\n",
            "Epoch 64/100\n",
            "6/6 - 0s - 31ms/step - loss: 0.1257 - mae: 0.0956 - mape: 1425134.7500 - mse: 0.0162 - rmse: 0.1273 - val_loss: 0.0451 - val_mae: 0.0385 - val_mape: 62.8723 - val_mse: 0.0023 - val_rmse: 0.0476\n",
            "Epoch 65/100\n",
            "6/6 - 0s - 32ms/step - loss: 0.1332 - mae: 0.1023 - mape: 793066.6250 - mse: 0.0189 - rmse: 0.1376 - val_loss: 0.0487 - val_mae: 0.0423 - val_mape: 70.4337 - val_mse: 0.0026 - val_rmse: 0.0511\n",
            "Epoch 66/100\n",
            "6/6 - 0s - 31ms/step - loss: 0.1281 - mae: 0.0987 - mape: 1138703.1250 - mse: 0.0171 - rmse: 0.1309 - val_loss: 0.0419 - val_mae: 0.0353 - val_mape: 53.1671 - val_mse: 0.0019 - val_rmse: 0.0440\n",
            "Epoch 67/100\n"
          ]
        },
        {
          "output_type": "stream",
          "name": "stderr",
          "text": [
            "WARNING:absl:You are saving your model as an HDF5 file via `model.save()` or `keras.saving.save_model(model)`. This file format is considered legacy. We recommend using instead the native Keras format, e.g. `model.save('my_model.keras')` or `keras.saving.save_model(model, 'my_model.keras')`. \n"
          ]
        },
        {
          "output_type": "stream",
          "name": "stdout",
          "text": [
            "6/6 - 0s - 36ms/step - loss: 0.1328 - mae: 0.1003 - mape: 1507524.0000 - mse: 0.0188 - rmse: 0.1372 - val_loss: 0.0418 - val_mae: 0.0353 - val_mape: 50.3416 - val_mse: 0.0019 - val_rmse: 0.0435\n",
            "Epoch 68/100\n",
            "6/6 - 0s - 47ms/step - loss: 0.1512 - mae: 0.1116 - mape: 1417016.0000 - mse: 0.0232 - rmse: 0.1524 - val_loss: 0.0630 - val_mae: 0.0570 - val_mape: 94.7858 - val_mse: 0.0042 - val_rmse: 0.0646\n",
            "Epoch 69/100\n",
            "6/6 - 0s - 29ms/step - loss: 0.1384 - mae: 0.1089 - mape: 887772.1875 - mse: 0.0193 - rmse: 0.1390 - val_loss: 0.0481 - val_mae: 0.0416 - val_mape: 69.1929 - val_mse: 0.0025 - val_rmse: 0.0505\n",
            "Epoch 70/100\n",
            "6/6 - 0s - 51ms/step - loss: 0.1294 - mae: 0.0956 - mape: 390325.4688 - mse: 0.0172 - rmse: 0.1311 - val_loss: 0.0438 - val_mae: 0.0353 - val_mape: 44.0035 - val_mse: 0.0020 - val_rmse: 0.0446\n",
            "Epoch 71/100\n",
            "6/6 - 0s - 47ms/step - loss: 0.1286 - mae: 0.0977 - mape: 1591201.5000 - mse: 0.0175 - rmse: 0.1323 - val_loss: 0.0428 - val_mae: 0.0361 - val_mape: 57.0731 - val_mse: 0.0020 - val_rmse: 0.0453\n",
            "Epoch 72/100\n",
            "6/6 - 0s - 32ms/step - loss: 0.1236 - mae: 0.0942 - mape: 436435.5000 - mse: 0.0160 - rmse: 0.1264 - val_loss: 0.0452 - val_mae: 0.0386 - val_mape: 63.1895 - val_mse: 0.0023 - val_rmse: 0.0477\n",
            "Epoch 73/100\n",
            "6/6 - 0s - 47ms/step - loss: 0.1310 - mae: 0.1005 - mape: 1400003.7500 - mse: 0.0174 - rmse: 0.1317 - val_loss: 0.0445 - val_mae: 0.0378 - val_mape: 61.4711 - val_mse: 0.0022 - val_rmse: 0.0470\n",
            "Epoch 74/100\n",
            "6/6 - 0s - 50ms/step - loss: 0.1261 - mae: 0.0995 - mape: 663792.6875 - mse: 0.0166 - rmse: 0.1288 - val_loss: 0.0577 - val_mae: 0.0516 - val_mape: 86.2291 - val_mse: 0.0035 - val_rmse: 0.0595\n",
            "Epoch 75/100\n",
            "6/6 - 0s - 30ms/step - loss: 0.1307 - mae: 0.0977 - mape: 1419367.8750 - mse: 0.0175 - rmse: 0.1322 - val_loss: 0.0441 - val_mae: 0.0374 - val_mape: 60.4622 - val_mse: 0.0022 - val_rmse: 0.0466\n",
            "Epoch 76/100\n",
            "6/6 - 0s - 56ms/step - loss: 0.1181 - mae: 0.0842 - mape: 139932.9062 - mse: 0.0147 - rmse: 0.1213 - val_loss: 0.0467 - val_mae: 0.0402 - val_mape: 66.5149 - val_mse: 0.0024 - val_rmse: 0.0492\n",
            "Epoch 77/100\n",
            "6/6 - 0s - 41ms/step - loss: 0.1367 - mae: 0.0995 - mape: 878154.9375 - mse: 0.0195 - rmse: 0.1396 - val_loss: 0.0527 - val_mae: 0.0462 - val_mape: 77.5334 - val_mse: 0.0030 - val_rmse: 0.0547\n",
            "Epoch 78/100\n",
            "6/6 - 0s - 51ms/step - loss: 0.1349 - mae: 0.1035 - mape: 713359.4375 - mse: 0.0185 - rmse: 0.1361 - val_loss: 0.0466 - val_mae: 0.0401 - val_mape: 66.1882 - val_mse: 0.0024 - val_rmse: 0.0490\n",
            "Epoch 79/100\n",
            "6/6 - 0s - 29ms/step - loss: 0.1242 - mae: 0.0935 - mape: 817121.1875 - mse: 0.0168 - rmse: 0.1297 - val_loss: 0.0475 - val_mae: 0.0363 - val_mape: 39.8405 - val_mse: 0.0023 - val_rmse: 0.0479\n",
            "Epoch 80/100\n",
            "6/6 - 0s - 32ms/step - loss: 0.1335 - mae: 0.1012 - mape: 47190.8516 - mse: 0.0179 - rmse: 0.1339 - val_loss: 0.0431 - val_mae: 0.0364 - val_mape: 57.8843 - val_mse: 0.0021 - val_rmse: 0.0456\n",
            "Epoch 81/100\n",
            "6/6 - 0s - 29ms/step - loss: 0.1242 - mae: 0.0951 - mape: 869272.6875 - mse: 0.0179 - rmse: 0.1337 - val_loss: 0.0440 - val_mae: 0.0373 - val_mape: 60.3063 - val_mse: 0.0022 - val_rmse: 0.0465\n",
            "Epoch 82/100\n",
            "6/6 - 0s - 30ms/step - loss: 0.1238 - mae: 0.0930 - mape: 1492038.7500 - mse: 0.0162 - rmse: 0.1273 - val_loss: 0.0454 - val_mae: 0.0389 - val_mape: 63.6731 - val_mse: 0.0023 - val_rmse: 0.0479\n",
            "Epoch 83/100\n",
            "6/6 - 0s - 30ms/step - loss: 0.1282 - mae: 0.0944 - mape: 223838.1719 - mse: 0.0168 - rmse: 0.1295 - val_loss: 0.0460 - val_mae: 0.0395 - val_mape: 64.9219 - val_mse: 0.0023 - val_rmse: 0.0484\n",
            "Epoch 84/100\n",
            "6/6 - 0s - 50ms/step - loss: 0.1252 - mae: 0.0924 - mape: 402445.8438 - mse: 0.0167 - rmse: 0.1292 - val_loss: 0.0557 - val_mae: 0.0494 - val_mape: 82.7669 - val_mse: 0.0033 - val_rmse: 0.0576\n",
            "Epoch 85/100\n",
            "6/6 - 0s - 48ms/step - loss: 0.1173 - mae: 0.0904 - mape: 558688.4375 - mse: 0.0139 - rmse: 0.1180 - val_loss: 0.0421 - val_mae: 0.0353 - val_mape: 48.1144 - val_mse: 0.0019 - val_rmse: 0.0435\n",
            "Epoch 86/100\n",
            "6/6 - 0s - 31ms/step - loss: 0.1207 - mae: 0.0848 - mape: 164080.2500 - mse: 0.0147 - rmse: 0.1214 - val_loss: 0.0418 - val_mae: 0.0353 - val_mape: 49.9019 - val_mse: 0.0019 - val_rmse: 0.0435\n",
            "Epoch 87/100\n",
            "6/6 - 0s - 29ms/step - loss: 0.1191 - mae: 0.0948 - mape: 1231796.2500 - mse: 0.0145 - rmse: 0.1205 - val_loss: 0.0595 - val_mae: 0.0534 - val_mape: 89.1002 - val_mse: 0.0037 - val_rmse: 0.0612\n",
            "Epoch 88/100\n",
            "6/6 - 0s - 55ms/step - loss: 0.1246 - mae: 0.0933 - mape: 759865.5625 - mse: 0.0157 - rmse: 0.1255 - val_loss: 0.0419 - val_mae: 0.0353 - val_mape: 53.4541 - val_mse: 0.0019 - val_rmse: 0.0441\n",
            "Epoch 89/100\n",
            "6/6 - 0s - 43ms/step - loss: 0.1257 - mae: 0.0932 - mape: 9952.9648 - mse: 0.0174 - rmse: 0.1320 - val_loss: 0.0426 - val_mae: 0.0353 - val_mape: 46.6642 - val_mse: 0.0019 - val_rmse: 0.0438\n",
            "Epoch 90/100\n",
            "6/6 - 0s - 54ms/step - loss: 0.1305 - mae: 0.0914 - mape: 1231445.6250 - mse: 0.0178 - rmse: 0.1335 - val_loss: 0.0552 - val_mae: 0.0489 - val_mape: 81.9336 - val_mse: 0.0033 - val_rmse: 0.0571\n",
            "Epoch 91/100\n",
            "6/6 - 0s - 30ms/step - loss: 0.1264 - mae: 0.0980 - mape: 682986.5625 - mse: 0.0162 - rmse: 0.1272 - val_loss: 0.0508 - val_mae: 0.0443 - val_mape: 74.2198 - val_mse: 0.0028 - val_rmse: 0.0530\n",
            "Epoch 92/100\n",
            "6/6 - 0s - 51ms/step - loss: 0.1233 - mae: 0.0911 - mape: 305504.6875 - mse: 0.0160 - rmse: 0.1267 - val_loss: 0.0419 - val_mae: 0.0353 - val_mape: 53.0328 - val_mse: 0.0019 - val_rmse: 0.0440\n",
            "Epoch 93/100\n",
            "6/6 - 0s - 29ms/step - loss: 0.1237 - mae: 0.0906 - mape: 1194923.7500 - mse: 0.0163 - rmse: 0.1277 - val_loss: 0.0508 - val_mae: 0.0444 - val_mape: 74.2912 - val_mse: 0.0028 - val_rmse: 0.0530\n",
            "Epoch 94/100\n",
            "6/6 - 0s - 29ms/step - loss: 0.1163 - mae: 0.0872 - mape: 673910.3750 - mse: 0.0136 - rmse: 0.1166 - val_loss: 0.0497 - val_mae: 0.0432 - val_mape: 72.1836 - val_mse: 0.0027 - val_rmse: 0.0519\n",
            "Epoch 95/100\n",
            "6/6 - 0s - 49ms/step - loss: 0.1097 - mae: 0.0824 - mape: 39248.7656 - mse: 0.0122 - rmse: 0.1104 - val_loss: 0.0419 - val_mae: 0.0353 - val_mape: 49.4813 - val_mse: 0.0019 - val_rmse: 0.0435\n",
            "Epoch 96/100\n",
            "6/6 - 0s - 29ms/step - loss: 0.1289 - mae: 0.0939 - mape: 585475.3125 - mse: 0.0182 - rmse: 0.1348 - val_loss: 0.0481 - val_mae: 0.0365 - val_mape: 39.3959 - val_mse: 0.0023 - val_rmse: 0.0484\n",
            "Epoch 97/100\n",
            "6/6 - 0s - 59ms/step - loss: 0.1152 - mae: 0.0814 - mape: 239170.8594 - mse: 0.0139 - rmse: 0.1179 - val_loss: 0.0523 - val_mae: 0.0459 - val_mape: 76.9429 - val_mse: 0.0030 - val_rmse: 0.0544\n",
            "Epoch 98/100\n",
            "6/6 - 0s - 50ms/step - loss: 0.1210 - mae: 0.0936 - mape: 863468.6875 - mse: 0.0154 - rmse: 0.1240 - val_loss: 0.0446 - val_mae: 0.0379 - val_mape: 61.7992 - val_mse: 0.0022 - val_rmse: 0.0471\n",
            "Epoch 99/100\n",
            "6/6 - 0s - 49ms/step - loss: 0.1134 - mae: 0.0854 - mape: 538104.1250 - mse: 0.0133 - rmse: 0.1154 - val_loss: 0.0433 - val_mae: 0.0366 - val_mape: 58.5645 - val_mse: 0.0021 - val_rmse: 0.0458\n",
            "Epoch 100/100\n",
            "6/6 - 0s - 64ms/step - loss: 0.1194 - mae: 0.0885 - mape: 949137.7500 - mse: 0.0146 - rmse: 0.1210 - val_loss: 0.0461 - val_mae: 0.0396 - val_mape: 65.2525 - val_mse: 0.0024 - val_rmse: 0.0486\n",
            "\u001b[1m2/2\u001b[0m \u001b[32m━━━━━━━━━━━━━━━━━━━━\u001b[0m\u001b[37m\u001b[0m \u001b[1m1s\u001b[0m 670ms/step\n"
          ]
        },
        {
          "output_type": "display_data",
          "data": {
            "text/plain": [
              "<Figure size 800x400 with 1 Axes>"
            ],
            "image/png": "[encoded data removed]"
          },
          "metadata": {}
        }
      ]
    },
    {
      "cell_type": "code",
      "source": [
        "# supondo que você salvou com:\n",
        "# model.save('melhor_modelo.h5')\n",
        "# ou o ModelCheckpoint criou esse arquivo\n",
        "\n",
        "model.load_weights('/content/melhor_modelo_.h5')\n",
        "scoreCkpt = model.evaluate(X_test, y_test, verbose=2)"
      ],
      "metadata": {
        "id": "Rp1eqkaY1kYi",
        "colab": {
          "base_uri": "https://localhost:8080/"
        },
        "outputId": "c7ec21a8-2157-4f1c-b010-07eb0eaea570"
      },
      "execution_count": null,
      "outputs": [
        {
          "output_type": "stream",
          "name": "stdout",
          "text": [
            "2/2 - 0s - 26ms/step - loss: 0.0433 - mae: 0.0353 - mape: 50.3416 - mse: 0.0019 - rmse: 0.0435\n"
          ]
        }
      ]
    },
    {
      "cell_type": "code",
      "source": [
        "print(scoreCkpt)"
      ],
      "metadata": {
        "id": "1VURZH-foGlI",
        "colab": {
          "base_uri": "https://localhost:8080/"
        },
        "outputId": "09ffcd70-a589-4ea2-9a28-9f3133ab9af6"
      },
      "execution_count": null,
      "outputs": [
        {
          "output_type": "stream",
          "name": "stdout",
          "text": [
            "[0.03826436772942543, 38.34309387207031, 0.029195383191108704, 0.0014686931390315294, 0.0383235327899456]\n"
          ]
        }
      ]
    },
    {
      "cell_type": "code",
      "source": [],
      "metadata": {
        "id": "1B4pPcNhox4m"
      },
      "execution_count": null,
      "outputs": []
    }
  ]
}