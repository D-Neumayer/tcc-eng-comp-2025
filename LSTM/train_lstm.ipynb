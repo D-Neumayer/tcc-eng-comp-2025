{
 "cells": [
  {
   "cell_type": "code",
   "execution_count": null,
   "id": "dfe05331",
   "metadata": {},
   "outputs": [],
   "source": [
    "import pandas as pd\n",
    "import numpy as np\n",
    "import matplotlib.pyplot as plt\n",
    "from sklearn.preprocessing import MinMaxScaler\n",
    "import tensorflow as tf\n",
    "from tensorflow.keras.models import Sequential\n",
    "from tensorflow.keras.layers import LSTM, Dense"
   ]
  },
  {
   "cell_type": "code",
   "execution_count": null,
   "id": "72bfa900",
   "metadata": {},
   "outputs": [],
   "source": [
    "# 1) Carregar e preparar a série temporal mensal\n",
    "df17 = pd.read_csv('/IMP_2017.csv', sep=';')\n",
    "df18 = pd.read_csv('/IMP_2018.csv', sep=';')\n",
    "df19 = pd.read_csv('/IMP_2019.csv', sep=';')\n",
    "df20 = pd.read_csv('/IMP_2020.csv', sep=';')\n",
    "df21 = pd.read_csv('/IMP_2021.csv', sep=';')\n",
    "df22 = pd.read_csv('/IMP_2022.csv', sep=';')\n",
    "df23 = pd.read_csv('/IMP_2023.csv', sep=';')\n",
    "df = pd.concat([df17, df18, df19, df20, df21, df22, df23], ignore_index=True)\n",
    "df = df[(df['CO_NCM'] == 84713012)].copy()\n",
    "df['CO_ANO'] = df['CO_ANO'].astype(int)\n",
    "df['CO_MES'] = df['CO_MES'].astype(int)\n",
    "df['date'] = pd.to_datetime(df['CO_ANO'].astype(str) + '-' + df['CO_MES'].astype(str) + '-01')\n",
    "ts = df.groupby('date')['KG_LIQUIDO'].sum().sort_index()"
   ]
  },
  {
   "cell_type": "code",
   "execution_count": null,
   "id": "7be09ecc",
   "metadata": {},
   "outputs": [],
   "source": [
    "# 2) Normalizar (MinMax)\n",
    "values = ts.values.reshape(-1, 1)\n",
    "scaler = MinMaxScaler(feature_range=(0, 1))\n",
    "scaled = scaler.fit_transform(values)\n",
    "\n",
    "# 3) Gerar janelas (window = 12 meses)\n",
    "window = 12\n",
    "X, y = [], []\n",
    "for i in range(window, len(scaled)):\n",
    "    X.append(scaled[i-window:i, 0])\n",
    "    y.append(scaled[i, 0])\n",
    "X, y = np.array(X), np.array(y)\n",
    "\n",
    "# 4) Reshape para [samples, timesteps, features]\n",
    "X = X.reshape((X.shape[0], X.shape[1], 1))\n",
    "\n",
    "# 5) Separar treino e teste (80% treino)\n",
    "split = int(len(X) * 0.8)\n",
    "X_train, X_test = X[:split], X[split:]\n",
    "y_train, y_test = y[:split], y[split:]\n",
    "\n",
    "# 6) Definir o modelo LSTM\n",
    "model = Sequential([\n",
    "    LSTM(50, activation='tanh', input_shape=(window, 1)),\n",
    "    LSTM(25, activation='tanh', input_shape=(window, 1)),\n",
    "    Dense(1)\n",
    "])\n",
    "model.compile(optimizer='adam', loss='mse', metrics=['accuracy'])\n",
    "\n",
    "# 7) Treinar\n",
    "history = model.fit(\n",
    "    X_train, y_train,\n",
    "    epochs=100,\n",
    "    batch_size=1,\n",
    "    validation_data=(X_test, y_test),\n",
    "\n",
    "    verbose=2\n",
    ")\n",
    "\n",
    "# 8) Previsão e inversão de escala\n",
    "y_pred = model.predict(X_test)\n",
    "y_pred_inv = scaler.inverse_transform(y_pred)\n",
    "y_test_inv = scaler.inverse_transform(y_test.reshape(-1, 1))\n",
    "\n",
    "# 9) Plotar resultados\n",
    "plt.figure(figsize=(8, 4))\n",
    "plt.plot(ts.index[window + split:], y_test_inv, label='Real')\n",
    "plt.plot(ts.index[window + split:], y_pred_inv, label='Previsto', linestyle='--')\n",
    "plt.title('LSTM: Previsão de KG_LIQUIDO (NCM 84713012)')\n",
    "plt.xlabel('Data')\n",
    "plt.ylabel('KG Líquido')\n",
    "plt.legend()\n",
    "plt.tight_layout()\n",
    "plt.show()\n",
    "\n"
   ]
  },
  {
   "cell_type": "code",
   "execution_count": null,
   "id": "8d342b43",
   "metadata": {},
   "outputs": [],
   "source": [
    "\n",
    "scoreCkpt = model.evaluate(y_train, y_test, verbose=0)"
   ]
  }
 ],
 "metadata": {
  "kernelspec": {
   "display_name": "Python 3",
   "language": "python",
   "name": "python3"
  },
  "language_info": {
   "codemirror_mode": {
    "name": "ipython",
    "version": 3
   },
   "file_extension": ".py",
   "mimetype": "text/x-python",
   "name": "python",
   "nbconvert_exporter": "python",
   "pygments_lexer": "ipython3",
   "version": "3.10.11"
  }
 },
 "nbformat": 4,
 "nbformat_minor": 5
}
