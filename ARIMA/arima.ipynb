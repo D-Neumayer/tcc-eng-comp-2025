{
 "cells": [
  {
   "cell_type": "code",
   "execution_count": null,
   "id": "db3f06ab",
   "metadata": {},
   "outputs": [],
   "source": [
    "import pandas as pd\n",
    "import matplotlib.pyplot as plt\n",
    "from statsmodels.tsa.arima.model import ARIMA\n",
    "\n",
    "anos = range(2019, 2025)\n",
    "dfs = [pd.read_csv(f'IMP_{ano}.csv', sep=';', dtype={'CO_NCM': str}) for ano in anos]\n",
    "df = pd.concat(dfs, ignore_index=True)\n"
   ]
  },
  {
   "cell_type": "code",
   "execution_count": null,
   "id": "d4f66d66",
   "metadata": {},
   "outputs": [],
   "source": [
    "df = df[df['CO_NCM'] == '84713012'].copy()\n",
    "df['CO_ANO'] = df['CO_ANO'].astype(int)\n",
    "df['CO_MES'] = df['CO_MES'].astype(int)\n",
    "df['date'] = pd.to_datetime(df['CO_ANO'].astype(str) + '-' + df['CO_MES'].astype(str).str.zfill(2) + '-01')\n",
    "ts = df.groupby('date')['KG_LIQUIDO'].sum().sort_index()\n",
    "ts = ts.asfreq('MS', fill_value=0)\n"
   ]
  },
  {
   "cell_type": "code",
   "execution_count": null,
   "id": "8b4c5ce0",
   "metadata": {},
   "outputs": [],
   "source": [
    "train = ts[:'2023-12-01']\n",
    "test = ts['2024-01-01':]"
   ]
  },
  {
   "cell_type": "code",
   "execution_count": null,
   "id": "b38ee8bd",
   "metadata": {},
   "outputs": [],
   "source": [
    "\n",
    "from pmdarima import auto_arima\n",
    "\n",
    "\n",
    "model = auto_arima(train, seasonal=True, m=1, trace=True,\n",
    "                   error_action='ignore', suppress_warnings=True)\n",
    "\n",
    "forecast = model.predict(n_periods=len(test)) # Prever os 12 meses de 2024\n"
   ]
  },
  {
   "cell_type": "code",
   "execution_count": null,
   "id": "e0339211",
   "metadata": {},
   "outputs": [],
   "source": [
    "plt.figure(figsize=(10, 5))\n",
    "plt.plot(train.index, train, label='Treino')\n",
    "plt.plot(test.index, test, label='Real 2024')\n",
    "plt.plot(test.index, forecast, label='Previsão 2024', linestyle='--')\n",
    "plt.xlabel('Data')\n",
    "plt.ylabel('KG Líquido')\n",
    "plt.title('Previsão ARIMA para 2024: Notebooks Pequenos ou Tablets (NCM 84713012)')\n",
    "plt.legend()\n",
    "plt.tight_layout()\n",
    "plt.show()\n"
   ]
  }
 ],
 "metadata": {
  "kernelspec": {
   "display_name": "Python 3",
   "language": "python",
   "name": "python3"
  },
  "language_info": {
   "codemirror_mode": {
    "name": "ipython",
    "version": 3
   },
   "file_extension": ".py",
   "mimetype": "text/x-python",
   "name": "python",
   "nbconvert_exporter": "python",
   "pygments_lexer": "ipython3",
   "version": "3.10.11"
  }
 },
 "nbformat": 4,
 "nbformat_minor": 5
}
